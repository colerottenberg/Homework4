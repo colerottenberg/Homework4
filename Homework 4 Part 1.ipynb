{
 "cells": [
  {
   "cell_type": "markdown",
   "metadata": {},
   "source": [
    "# Homework 4 Part 1\n",
    "\n",
    "**Due: Monday, November 6, 11:59 PM**\n",
    "\n",
    "This is an individual assignment."
   ]
  },
  {
   "cell_type": "markdown",
   "metadata": {},
   "source": [
    "## Description\n",
    "\n",
    "Provide analytical solutions to the problems below and upload your answers as a PDF. (There is no need to type your answers -- just scan your handwritten solutions with an app like [CamScanner](https://www.camscanner.com/user/download) or [Scannable](https://apps.apple.com/us/app/evernote-scannable/id883338188).)"
   ]
  },
  {
   "cell_type": "markdown",
   "metadata": {},
   "source": [
    "## Problem 1\n",
    "\n",
    "Let $X$ be a **discrete** random variable with the following PMF:\n",
    "\n",
    "$$p_X(x) = \\begin{cases} \\frac{(3-x)^2}{a},& \\text{if }x=0,1,2,3 \\\\ 0, & \\text{otherwise} \\end{cases}$$\n",
    "\n",
    "Solve the following analytically. Show your math.\n",
    "\n",
    "1. Find the value of $a$ for $p_X(x)$ to be a valid PMF.\n",
    "\n",
    "2. Find the CDF of $X$. Draw it by hand.\n",
    "\n",
    "3. Calculate the mean of $X$.\n",
    "\n",
    "4. Calculate the variance of $X$.\n",
    "\n",
    "5. If $Y=(X-2)^2$, find $E[Y]$."
   ]
  },
  {
   "cell_type": "markdown",
   "metadata": {},
   "source": [
    "## Problem 2\n",
    "\n",
    "Four boxes of computer chips arrive. Each box is from a different manufacturer.  The boxes contain, respectively, \n",
    "250, 300, 400, and 500 chips. One of the boxes is chosen at random. Let $X$ denote the total number of chips in the chosen\n",
    "box. \n",
    "\n",
    "The four boxes are combined, and one of the chips is selected at random. Let $Y$ denote the number of chips that were in the box from the selected chip.\n",
    "\n",
    "1. Find the PMF of $X$ and $Y$.\n",
    "\n",
    "2. Which of $E[X]$ or $E[Y]$ do you think is larger? Compute $E[X]$ and $E[Y]$.\n"
   ]
  },
  {
   "cell_type": "markdown",
   "metadata": {},
   "source": [
    "## Problem 3\n",
    "\n",
    "The Laser Interferometer Gravitational-Wave Observatory (LIGO) \n",
    "is very sensitive -- it is designed to detect a change in distance\n",
    "between its mirrors 1/10,000th the width of a proton! Thus, it also\n",
    "detects very minor disturbances, such as a car driving by, or\n",
    "someone walking down the hall. On average, the LIGO inferometer detects an average of 30 disturbances per\n",
    "hour that are not gravitational waves. \n",
    "\n",
    "1. What is the probability that there will be at least one\n",
    "disturbance in a 1 minute period?\n",
    "\n",
    "2. What is the probability that there will be at least one\n",
    "disturbance in a 5 minute period?\n",
    "\n",
    "3.  What is the probability that there will be fewer than 5 \n",
    "disturbances in a 15 minute period?\n",
    "\n",
    "4.  What is the probability that there will be more than 10 \n",
    "disturbances in a 15 minute period?\n",
    "\n"
   ]
  },
  {
   "cell_type": "markdown",
   "metadata": {
    "jp-MarkdownHeadingCollapsed": true
   },
   "source": [
    "## Problem 4\n",
    "\n",
    "Consider the function \n",
    "$$\n",
    "\\begin{equation*}\n",
    "f_X(x) = \n",
    "\\begin{cases}\n",
    "  c x^4, & -2 \\le x \\le 2 \\\\\n",
    "  0, & \\text{otherwise} \n",
    "\\end{cases}\n",
    "\\end{equation*}\n",
    "$$\n",
    "\n",
    "1. Find $c$ for $f_X(x)$ to be a valid probability density function.\n",
    "\n",
    "2. Let $X$ be a random variable with density function $f_X(x)$. Find the cumulative distribution function of $X$.\n",
    "\n",
    "3. Find the mean of $X$.\n",
    "\n",
    "4. Find the variance of $X$.\n",
    "\n",
    "5. Find the expected value of $(X-1)^2$."
   ]
  },
  {
   "cell_type": "markdown",
   "metadata": {},
   "source": [
    "# Problem 5\n",
    "\n",
    "Let $X \\sim Exp(\\lambda)$ is an exponential random variable. \n",
    "1. Compute $E[X]$ and $Var[X]$ use integral by parts.\n",
    "\n",
    "2. Show that $X$ satisfies the following:\n",
    "$$P(X > t+\\Delta t | X>t) = P(X>\\Delta t)$$\n",
    "\n",
    "This is called the **memoryless** property, which implies the following: if $X$ is (for example) the amount of time you are going to wait for the bus, and you have been waiting for $t$ minutes, the probability of having to wait for at least $\\Delta t$ additional minutes was the same at the beginning of the waiting period as at the end. It does not depend on how long you have already been waiting!"
   ]
  },
  {
   "cell_type": "markdown",
   "metadata": {},
   "source": [
    "## Problem 6\n",
    "\n",
    " A professor offers an exam for which a randomly\n",
    "chosen student's grade can be modeled as a Gaussian random variable,\n",
    "$X$.  The following grading scheme is used:\n",
    "* if $X\\ge 85$, the grade is A\n",
    "* if $70 \\le X < 85$, the grade is B\n",
    "* if $X<70$, the grade is C\n",
    "\n",
    "1. If the mean exam score is 82 and the variance is 64, find the\n",
    "probabilities of $A$, $B$, and $C$.\n",
    "\n",
    "2. If a student is confident that he made at least an 80 on the\n",
    "exam, what is the probability that the student made an A on the\n",
    "exam?  \n",
    "\n",
    "3. Suppose that the professor instead wants to adjust the\n",
    "difficulty of the problems of the exam so that the probability of\n",
    "an $A$ is 0.25 and the probability of a $B$ is 0.52.  What should\n",
    "the values of the mean and variance be to achieve these\n",
    "probabilities? \n"
   ]
  },
  {
   "cell_type": "markdown",
   "metadata": {},
   "source": [
    "## Problem 7\n",
    "\n",
    "In a binary communication system, the received signal is a noisy version of the transmitted signal. \n",
    "\n",
    "In the presence of noise, the received signal can be modeled as $X= s_i + N$, where: \n",
    "* $s_0=0$ or $s_1=1$ is transmitted\n",
    "* $N\\sim \\text{Uniform}[0,b]$\n",
    "\n",
    "1. Calculate the mean and variance of the noise $N$.\n",
    "\n",
    "2. Let $T_i$ be the event that the signal component is $s_i$. Find the conditional density for $X$ given $T_0$ and the conditional density for $X$ given $T_1$ .\n",
    "\n",
    "3. On one set of axes, plot the likelihoods if $b=1.2$.\n",
    "\n",
    "4. On one set of axes, plot the likelihoods if  $b=1.6$.\n",
    "\n",
    "5. Find a ML decision rule if $b=1.2$.\n",
    "\n",
    "6. Find a ML decision rule if $b=1.6$.\n",
    "\n",
    "7. Let $P(T_0) = 0.4$ and $P(T_1) = 0.6$. Calculate the probability of error if the decision rule is:\n",
    "\n",
    "\\begin{align*}\n",
    "\\begin{cases} \\hat{T}_{0}, & X < 1\\\\\n",
    "\\hat{T}_{1}, & X \\ge 1, \\end{cases}\n",
    "\\end{align*}\n",
    "\n",
    "where $\\hat{T}_i$ denotes deciding that $i$ was transmitted. Provide a numerical answer for both $b=1.2$ and $b=1.6$.\n"
   ]
  },
  {
   "cell_type": "code",
   "execution_count": null,
   "metadata": {},
   "outputs": [],
   "source": []
  }
 ],
 "metadata": {
  "kernelspec": {
   "display_name": "Python 3 (ipykernel)",
   "language": "python",
   "name": "python3"
  },
  "language_info": {
   "codemirror_mode": {
    "name": "ipython",
    "version": 3
   },
   "file_extension": ".py",
   "mimetype": "text/x-python",
   "name": "python",
   "nbconvert_exporter": "python",
   "pygments_lexer": "ipython3",
   "version": "3.11.4"
  },
  "latex_envs": {
   "LaTeX_envs_menu_present": true,
   "autoclose": false,
   "autocomplete": true,
   "bibliofile": "biblio.bib",
   "cite_by": "apalike",
   "current_citInitial": 1,
   "eqLabelWithNumbers": true,
   "eqNumInitial": 1,
   "hotkeys": {
    "equation": "Ctrl-E",
    "itemize": "Ctrl-I"
   },
   "labels_anchors": false,
   "latex_user_defs": false,
   "report_style_numbering": false,
   "user_envs_cfg": false
  },
  "varInspector": {
   "cols": {
    "lenName": 16,
    "lenType": 16,
    "lenVar": 40
   },
   "kernels_config": {
    "python": {
     "delete_cmd_postfix": "",
     "delete_cmd_prefix": "del ",
     "library": "var_list.py",
     "varRefreshCmd": "print(var_dic_list())"
    },
    "r": {
     "delete_cmd_postfix": ") ",
     "delete_cmd_prefix": "rm(",
     "library": "var_list.r",
     "varRefreshCmd": "cat(var_dic_list()) "
    }
   },
   "types_to_exclude": [
    "module",
    "function",
    "builtin_function_or_method",
    "instance",
    "_Feature"
   ],
   "window_display": false
  }
 },
 "nbformat": 4,
 "nbformat_minor": 4
}
